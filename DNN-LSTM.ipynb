{
 "cells": [
  {
   "cell_type": "code",
   "execution_count": 7,
   "id": "2354b99b-003b-4b75-8448-8a0145133723",
   "metadata": {},
   "outputs": [
    {
     "name": "stdout",
     "output_type": "stream",
     "text": [
      "Class distribution before split:\n",
      " label\n",
      "0    143\n",
      "Name: count, dtype: int64\n",
      "Train class distribution: label\n",
      "0    114\n",
      "Name: count, dtype: int64\n",
      "Test class distribution: label\n",
      "0    29\n",
      "Name: count, dtype: int64\n",
      "⚠️ Skipping RFE (only one class in y_train)\n",
      "Tabular after RFE+PCA shapes: (114, 10) (29, 10)\n",
      "Class counts before oversampling: Counter({0: 114})\n",
      "⚠️ Only one class present in training set -> skipping oversampling\n",
      "Class counts after oversampling: Counter({0: 114})\n"
     ]
    },
    {
     "data": {
      "text/html": [
       "<pre style=\"white-space:pre;overflow-x:auto;line-height:normal;font-family:Menlo,'DejaVu Sans Mono',consolas,'Courier New',monospace\"><span style=\"font-weight: bold\">Model: \"functional\"</span>\n",
       "</pre>\n"
      ],
      "text/plain": [
       "\u001b[1mModel: \"functional\"\u001b[0m\n"
      ]
     },
     "metadata": {},
     "output_type": "display_data"
    },
    {
     "data": {
      "text/html": [
       "<pre style=\"white-space:pre;overflow-x:auto;line-height:normal;font-family:Menlo,'DejaVu Sans Mono',consolas,'Courier New',monospace\">┏━━━━━━━━━━━━━━━━━━━━━━━━━━━━━━━━━━━━━━┳━━━━━━━━━━━━━━━━━━━━━━━━━━━━━┳━━━━━━━━━━━━━━━━━┓\n",
       "┃<span style=\"font-weight: bold\"> Layer (type)                         </span>┃<span style=\"font-weight: bold\"> Output Shape                </span>┃<span style=\"font-weight: bold\">         Param # </span>┃\n",
       "┡━━━━━━━━━━━━━━━━━━━━━━━━━━━━━━━━━━━━━━╇━━━━━━━━━━━━━━━━━━━━━━━━━━━━━╇━━━━━━━━━━━━━━━━━┩\n",
       "│ clinical_input (<span style=\"color: #0087ff; text-decoration-color: #0087ff\">InputLayer</span>)          │ (<span style=\"color: #00d7ff; text-decoration-color: #00d7ff\">None</span>, <span style=\"color: #00af00; text-decoration-color: #00af00\">10</span>)                  │               <span style=\"color: #00af00; text-decoration-color: #00af00\">0</span> │\n",
       "├──────────────────────────────────────┼─────────────────────────────┼─────────────────┤\n",
       "│ dense (<span style=\"color: #0087ff; text-decoration-color: #0087ff\">Dense</span>)                        │ (<span style=\"color: #00d7ff; text-decoration-color: #00d7ff\">None</span>, <span style=\"color: #00af00; text-decoration-color: #00af00\">64</span>)                  │             <span style=\"color: #00af00; text-decoration-color: #00af00\">704</span> │\n",
       "├──────────────────────────────────────┼─────────────────────────────┼─────────────────┤\n",
       "│ batch_normalization                  │ (<span style=\"color: #00d7ff; text-decoration-color: #00d7ff\">None</span>, <span style=\"color: #00af00; text-decoration-color: #00af00\">64</span>)                  │             <span style=\"color: #00af00; text-decoration-color: #00af00\">256</span> │\n",
       "│ (<span style=\"color: #0087ff; text-decoration-color: #0087ff\">BatchNormalization</span>)                 │                             │                 │\n",
       "├──────────────────────────────────────┼─────────────────────────────┼─────────────────┤\n",
       "│ dense_1 (<span style=\"color: #0087ff; text-decoration-color: #0087ff\">Dense</span>)                      │ (<span style=\"color: #00d7ff; text-decoration-color: #00d7ff\">None</span>, <span style=\"color: #00af00; text-decoration-color: #00af00\">32</span>)                  │           <span style=\"color: #00af00; text-decoration-color: #00af00\">2,080</span> │\n",
       "├──────────────────────────────────────┼─────────────────────────────┼─────────────────┤\n",
       "│ dropout (<span style=\"color: #0087ff; text-decoration-color: #0087ff\">Dropout</span>)                    │ (<span style=\"color: #00d7ff; text-decoration-color: #00d7ff\">None</span>, <span style=\"color: #00af00; text-decoration-color: #00af00\">32</span>)                  │               <span style=\"color: #00af00; text-decoration-color: #00af00\">0</span> │\n",
       "├──────────────────────────────────────┼─────────────────────────────┼─────────────────┤\n",
       "│ dense_2 (<span style=\"color: #0087ff; text-decoration-color: #0087ff\">Dense</span>)                      │ (<span style=\"color: #00d7ff; text-decoration-color: #00d7ff\">None</span>, <span style=\"color: #00af00; text-decoration-color: #00af00\">1</span>)                   │              <span style=\"color: #00af00; text-decoration-color: #00af00\">33</span> │\n",
       "└──────────────────────────────────────┴─────────────────────────────┴─────────────────┘\n",
       "</pre>\n"
      ],
      "text/plain": [
       "┏━━━━━━━━━━━━━━━━━━━━━━━━━━━━━━━━━━━━━━┳━━━━━━━━━━━━━━━━━━━━━━━━━━━━━┳━━━━━━━━━━━━━━━━━┓\n",
       "┃\u001b[1m \u001b[0m\u001b[1mLayer (type)                        \u001b[0m\u001b[1m \u001b[0m┃\u001b[1m \u001b[0m\u001b[1mOutput Shape               \u001b[0m\u001b[1m \u001b[0m┃\u001b[1m \u001b[0m\u001b[1m        Param #\u001b[0m\u001b[1m \u001b[0m┃\n",
       "┡━━━━━━━━━━━━━━━━━━━━━━━━━━━━━━━━━━━━━━╇━━━━━━━━━━━━━━━━━━━━━━━━━━━━━╇━━━━━━━━━━━━━━━━━┩\n",
       "│ clinical_input (\u001b[38;5;33mInputLayer\u001b[0m)          │ (\u001b[38;5;45mNone\u001b[0m, \u001b[38;5;34m10\u001b[0m)                  │               \u001b[38;5;34m0\u001b[0m │\n",
       "├──────────────────────────────────────┼─────────────────────────────┼─────────────────┤\n",
       "│ dense (\u001b[38;5;33mDense\u001b[0m)                        │ (\u001b[38;5;45mNone\u001b[0m, \u001b[38;5;34m64\u001b[0m)                  │             \u001b[38;5;34m704\u001b[0m │\n",
       "├──────────────────────────────────────┼─────────────────────────────┼─────────────────┤\n",
       "│ batch_normalization                  │ (\u001b[38;5;45mNone\u001b[0m, \u001b[38;5;34m64\u001b[0m)                  │             \u001b[38;5;34m256\u001b[0m │\n",
       "│ (\u001b[38;5;33mBatchNormalization\u001b[0m)                 │                             │                 │\n",
       "├──────────────────────────────────────┼─────────────────────────────┼─────────────────┤\n",
       "│ dense_1 (\u001b[38;5;33mDense\u001b[0m)                      │ (\u001b[38;5;45mNone\u001b[0m, \u001b[38;5;34m32\u001b[0m)                  │           \u001b[38;5;34m2,080\u001b[0m │\n",
       "├──────────────────────────────────────┼─────────────────────────────┼─────────────────┤\n",
       "│ dropout (\u001b[38;5;33mDropout\u001b[0m)                    │ (\u001b[38;5;45mNone\u001b[0m, \u001b[38;5;34m32\u001b[0m)                  │               \u001b[38;5;34m0\u001b[0m │\n",
       "├──────────────────────────────────────┼─────────────────────────────┼─────────────────┤\n",
       "│ dense_2 (\u001b[38;5;33mDense\u001b[0m)                      │ (\u001b[38;5;45mNone\u001b[0m, \u001b[38;5;34m1\u001b[0m)                   │              \u001b[38;5;34m33\u001b[0m │\n",
       "└──────────────────────────────────────┴─────────────────────────────┴─────────────────┘\n"
      ]
     },
     "metadata": {},
     "output_type": "display_data"
    },
    {
     "data": {
      "text/html": [
       "<pre style=\"white-space:pre;overflow-x:auto;line-height:normal;font-family:Menlo,'DejaVu Sans Mono',consolas,'Courier New',monospace\"><span style=\"font-weight: bold\"> Total params: </span><span style=\"color: #00af00; text-decoration-color: #00af00\">3,073</span> (12.00 KB)\n",
       "</pre>\n"
      ],
      "text/plain": [
       "\u001b[1m Total params: \u001b[0m\u001b[38;5;34m3,073\u001b[0m (12.00 KB)\n"
      ]
     },
     "metadata": {},
     "output_type": "display_data"
    },
    {
     "data": {
      "text/html": [
       "<pre style=\"white-space:pre;overflow-x:auto;line-height:normal;font-family:Menlo,'DejaVu Sans Mono',consolas,'Courier New',monospace\"><span style=\"font-weight: bold\"> Trainable params: </span><span style=\"color: #00af00; text-decoration-color: #00af00\">2,945</span> (11.50 KB)\n",
       "</pre>\n"
      ],
      "text/plain": [
       "\u001b[1m Trainable params: \u001b[0m\u001b[38;5;34m2,945\u001b[0m (11.50 KB)\n"
      ]
     },
     "metadata": {},
     "output_type": "display_data"
    },
    {
     "data": {
      "text/html": [
       "<pre style=\"white-space:pre;overflow-x:auto;line-height:normal;font-family:Menlo,'DejaVu Sans Mono',consolas,'Courier New',monospace\"><span style=\"font-weight: bold\"> Non-trainable params: </span><span style=\"color: #00af00; text-decoration-color: #00af00\">128</span> (512.00 B)\n",
       "</pre>\n"
      ],
      "text/plain": [
       "\u001b[1m Non-trainable params: \u001b[0m\u001b[38;5;34m128\u001b[0m (512.00 B)\n"
      ]
     },
     "metadata": {},
     "output_type": "display_data"
    },
    {
     "name": "stdout",
     "output_type": "stream",
     "text": [
      "Epoch 1/50\n",
      "\u001b[1m1/6\u001b[0m \u001b[32m━━━\u001b[0m\u001b[37m━━━━━━━━━━━━━━━━━\u001b[0m \u001b[1m13s\u001b[0m 3s/step - accuracy: 0.4375 - auc: 0.0000e+00 - loss: 0.7731\n",
      "Epoch 1: val_auc improved from -inf to 0.00000, saving model to bladder_cancer_model.keras\n",
      "\u001b[1m6/6\u001b[0m \u001b[32m━━━━━━━━━━━━━━━━━━━━\u001b[0m\u001b[37m\u001b[0m \u001b[1m3s\u001b[0m 91ms/step - accuracy: 0.5683 - auc: 0.0000e+00 - loss: 0.6495 - val_accuracy: 0.6957 - val_auc: 0.0000e+00 - val_loss: 0.6487\n",
      "Epoch 2/50\n",
      "\u001b[1m1/6\u001b[0m \u001b[32m━━━\u001b[0m\u001b[37m━━━━━━━━━━━━━━━━━\u001b[0m \u001b[1m0s\u001b[0m 34ms/step - accuracy: 0.8750 - auc: 0.0000e+00 - loss: 0.4869\n",
      "Epoch 2: val_auc did not improve from 0.00000\n",
      "\u001b[1m6/6\u001b[0m \u001b[32m━━━━━━━━━━━━━━━━━━━━\u001b[0m\u001b[37m\u001b[0m \u001b[1m0s\u001b[0m 14ms/step - accuracy: 0.8313 - auc: 0.0000e+00 - loss: 0.4711 - val_accuracy: 0.8261 - val_auc: 0.0000e+00 - val_loss: 0.5874\n",
      "Epoch 3/50\n",
      "\u001b[1m1/6\u001b[0m \u001b[32m━━━\u001b[0m\u001b[37m━━━━━━━━━━━━━━━━━\u001b[0m \u001b[1m0s\u001b[0m 36ms/step - accuracy: 0.8750 - auc: 0.0000e+00 - loss: 0.3687\n",
      "Epoch 3: val_auc did not improve from 0.00000\n",
      "\u001b[1m6/6\u001b[0m \u001b[32m━━━━━━━━━━━━━━━━━━━━\u001b[0m\u001b[37m\u001b[0m \u001b[1m0s\u001b[0m 17ms/step - accuracy: 0.8815 - auc: 0.0000e+00 - loss: 0.3991 - val_accuracy: 0.9130 - val_auc: 0.0000e+00 - val_loss: 0.5303\n",
      "Epoch 4/50\n",
      "\u001b[1m1/6\u001b[0m \u001b[32m━━━\u001b[0m\u001b[37m━━━━━━━━━━━━━━━━━\u001b[0m \u001b[1m0s\u001b[0m 35ms/step - accuracy: 0.9375 - auc: 0.0000e+00 - loss: 0.2778\n",
      "Epoch 4: val_auc did not improve from 0.00000\n",
      "\u001b[1m6/6\u001b[0m \u001b[32m━━━━━━━━━━━━━━━━━━━━\u001b[0m\u001b[37m\u001b[0m \u001b[1m0s\u001b[0m 18ms/step - accuracy: 0.9124 - auc: 0.0000e+00 - loss: 0.2972 - val_accuracy: 0.9565 - val_auc: 0.0000e+00 - val_loss: 0.4799\n",
      "Epoch 5/50\n",
      "\u001b[1m1/6\u001b[0m \u001b[32m━━━\u001b[0m\u001b[37m━━━━━━━━━━━━━━━━━\u001b[0m \u001b[1m0s\u001b[0m 78ms/step - accuracy: 0.9375 - auc: 0.0000e+00 - loss: 0.2600\n",
      "Epoch 5: val_auc did not improve from 0.00000\n",
      "\u001b[1m6/6\u001b[0m \u001b[32m━━━━━━━━━━━━━━━━━━━━\u001b[0m\u001b[37m\u001b[0m \u001b[1m0s\u001b[0m 24ms/step - accuracy: 0.9587 - auc: 0.0000e+00 - loss: 0.2554 - val_accuracy: 0.9565 - val_auc: 0.0000e+00 - val_loss: 0.4355\n",
      "Epoch 6/50\n",
      "\u001b[1m1/6\u001b[0m \u001b[32m━━━\u001b[0m\u001b[37m━━━━━━━━━━━━━━━━━\u001b[0m \u001b[1m0s\u001b[0m 41ms/step - accuracy: 1.0000 - auc: 0.0000e+00 - loss: 0.2635\n",
      "Epoch 6: val_auc did not improve from 0.00000\n",
      "\u001b[1m6/6\u001b[0m \u001b[32m━━━━━━━━━━━━━━━━━━━━\u001b[0m\u001b[37m\u001b[0m \u001b[1m0s\u001b[0m 19ms/step - accuracy: 0.9782 - auc: 0.0000e+00 - loss: 0.2402 - val_accuracy: 1.0000 - val_auc: 0.0000e+00 - val_loss: 0.3952\n",
      "Epoch 7/50\n",
      "\u001b[1m1/6\u001b[0m \u001b[32m━━━\u001b[0m\u001b[37m━━━━━━━━━━━━━━━━━\u001b[0m \u001b[1m0s\u001b[0m 45ms/step - accuracy: 1.0000 - auc: 0.0000e+00 - loss: 0.1743\n",
      "Epoch 7: val_auc did not improve from 0.00000\n",
      "\u001b[1m6/6\u001b[0m \u001b[32m━━━━━━━━━━━━━━━━━━━━\u001b[0m\u001b[37m\u001b[0m \u001b[1m0s\u001b[0m 19ms/step - accuracy: 0.9751 - auc: 0.0000e+00 - loss: 0.1805 - val_accuracy: 1.0000 - val_auc: 0.0000e+00 - val_loss: 0.3595\n",
      "Epoch 7: early stopping\n",
      "Restoring model weights from the end of the best epoch: 1.\n",
      "Test Accuracy: 0.7241, Test AUC: 0.0000\n",
      "\u001b[1m1/1\u001b[0m \u001b[32m━━━━━━━━━━━━━━━━━━━━\u001b[0m\u001b[37m\u001b[0m \u001b[1m0s\u001b[0m 123ms/step\n"
     ]
    },
    {
     "name": "stderr",
     "output_type": "stream",
     "text": [
      "C:\\Users\\91910\\anaconda3\\Lib\\site-packages\\sklearn\\metrics\\_ranking.py:1133: UndefinedMetricWarning: No positive samples in y_true, true positive value should be meaningless\n",
      "  warnings.warn(\n"
     ]
    },
    {
     "data": {
      "image/png": "[encoded data removed]",
      "text/plain": [
       "<Figure size 600x600 with 1 Axes>"
      ]
     },
     "metadata": {},
     "output_type": "display_data"
    },
    {
     "data": {
      "image/png": "[encoded data removed]",
      "text/plain": [
       "<Figure size 500x400 with 2 Axes>"
      ]
     },
     "metadata": {},
     "output_type": "display_data"
    },
    {
     "name": "stdout",
     "output_type": "stream",
     "text": [
      "Classification Report:\n",
      "                precision    recall  f1-score   support\n",
      "\n",
      "      Cystitis       1.00      0.72      0.84        29\n",
      "Bladder Cancer       0.00      0.00      0.00         0\n",
      "\n",
      "      accuracy                           0.72        29\n",
      "     macro avg       0.50      0.36      0.42        29\n",
      "  weighted avg       1.00      0.72      0.84        29\n",
      "\n"
     ]
    },
    {
     "name": "stderr",
     "output_type": "stream",
     "text": [
      "C:\\Users\\91910\\anaconda3\\Lib\\site-packages\\sklearn\\metrics\\_classification.py:1469: UndefinedMetricWarning: Recall and F-score are ill-defined and being set to 0.0 in labels with no true samples. Use `zero_division` parameter to control this behavior.\n",
      "  _warn_prf(average, modifier, msg_start, len(result))\n",
      "C:\\Users\\91910\\anaconda3\\Lib\\site-packages\\sklearn\\metrics\\_classification.py:1469: UndefinedMetricWarning: Recall and F-score are ill-defined and being set to 0.0 in labels with no true samples. Use `zero_division` parameter to control this behavior.\n",
      "  _warn_prf(average, modifier, msg_start, len(result))\n",
      "C:\\Users\\91910\\anaconda3\\Lib\\site-packages\\sklearn\\metrics\\_classification.py:1469: UndefinedMetricWarning: Recall and F-score are ill-defined and being set to 0.0 in labels with no true samples. Use `zero_division` parameter to control this behavior.\n",
      "  _warn_prf(average, modifier, msg_start, len(result))\n"
     ]
    }
   ],
   "source": [
    "# ==============================\n",
    "# Bladder Dataset (Tabular Only Version with Safeguards)\n",
    "# ==============================\n",
    "\n",
    "import pandas as pd\n",
    "import numpy as np\n",
    "from sklearn.model_selection import train_test_split\n",
    "from sklearn.impute import SimpleImputer\n",
    "from sklearn.preprocessing import StandardScaler\n",
    "from sklearn.decomposition import PCA\n",
    "from sklearn.feature_selection import RFE\n",
    "from sklearn.linear_model import LogisticRegression\n",
    "from imblearn.over_sampling import SMOTE, RandomOverSampler\n",
    "from sklearn.metrics import roc_curve, auc, confusion_matrix, classification_report\n",
    "import matplotlib.pyplot as plt\n",
    "import seaborn as sns\n",
    "\n",
    "import tensorflow as tf\n",
    "from tensorflow.keras import layers, Model, Input\n",
    "from tensorflow.keras.callbacks import EarlyStopping, ModelCheckpoint\n",
    "\n",
    "# ---------------------------\n",
    "# Load dataset\n",
    "# ---------------------------\n",
    "CSV_PATH = r\"C:\\Users\\91910\\bladder.csv\"\n",
    "df = pd.read_csv(CSV_PATH)\n",
    "\n",
    "# Keep only rows with Cystitis or Bladder Cancer\n",
    "df = df[df[\"Disease\"].isin([\"Cystitis\", \"Bladder Cancer\"])].copy()\n",
    "\n",
    "# Map to binary labels\n",
    "df[\"label\"] = df[\"Disease\"].map({\"Cystitis\": 0, \"Bladder Cancer\": 1})\n",
    "\n",
    "# Drop non-feature columns\n",
    "X = df.drop(columns=[\"Disease\", \"Patient Number\", \"label\"])\n",
    "y = df[\"label\"]\n",
    "\n",
    "print(\"Class distribution before split:\\n\", y.value_counts())\n",
    "\n",
    "# ---------------------------\n",
    "# Train-test split\n",
    "# ---------------------------\n",
    "# If minority class is too small, use smaller test size\n",
    "test_size = 0.2\n",
    "if y.value_counts().min() < 5:\n",
    "    print(\"⚠️ Few minority samples detected, reducing test size to 0.1\")\n",
    "    test_size = 0.1\n",
    "\n",
    "X_train, X_test, y_train, y_test = train_test_split(\n",
    "    X, y, test_size=test_size, random_state=42, stratify=y\n",
    ")\n",
    "\n",
    "print(\"Train class distribution:\", y_train.value_counts())\n",
    "print(\"Test class distribution:\", y_test.value_counts())\n",
    "\n",
    "# ---------------------------\n",
    "# Impute missing values + Scale\n",
    "# ---------------------------\n",
    "imputer = SimpleImputer(strategy=\"median\")\n",
    "X_train_imp = imputer.fit_transform(X_train)\n",
    "X_test_imp  = imputer.transform(X_test)\n",
    "\n",
    "scaler = StandardScaler()\n",
    "X_train_scaled = scaler.fit_transform(X_train_imp)\n",
    "X_test_scaled  = scaler.transform(X_test_imp)\n",
    "\n",
    "# ---------------------------\n",
    "# Feature Selection (RFE) with safeguard\n",
    "# ---------------------------\n",
    "if len(np.unique(y_train)) > 1:  # Only run RFE if >1 class\n",
    "    n_features_to_select = min(10, X_train_scaled.shape[1])\n",
    "    rfe_est = LogisticRegression(max_iter=1000, solver=\"lbfgs\")\n",
    "    rfe = RFE(rfe_est, n_features_to_select=n_features_to_select)\n",
    "    X_train_sel = rfe.fit_transform(X_train_scaled, y_train)\n",
    "    X_test_sel  = rfe.transform(X_test_scaled)\n",
    "else:\n",
    "    print(\"⚠️ Skipping RFE (only one class in y_train)\")\n",
    "    X_train_sel, X_test_sel = X_train_scaled, X_test_scaled\n",
    "\n",
    "# ---------------------------\n",
    "# PCA\n",
    "# ---------------------------\n",
    "pca_components = min(10, X_train_sel.shape[1])\n",
    "pca = PCA(n_components=pca_components)\n",
    "X_train_pca = pca.fit_transform(X_train_sel)\n",
    "X_test_pca  = pca.transform(X_test_sel)\n",
    "\n",
    "print(\"Tabular after RFE+PCA shapes:\", X_train_pca.shape, X_test_pca.shape)\n",
    "\n",
    "# ---------------------------\n",
    "# Handle Class Imbalance (SMOTE)\n",
    "# ---------------------------\n",
    "# ---------------------------\n",
    "# Handle Class Imbalance (Safe)\n",
    "# ---------------------------\n",
    "from collections import Counter\n",
    "print(\"Class counts before oversampling:\", Counter(y_train))\n",
    "\n",
    "if len(np.unique(y_train)) < 2:\n",
    "    print(\"⚠️ Only one class present in training set -> skipping oversampling\")\n",
    "    X_res, y_res = X_train_pca, y_train\n",
    "else:\n",
    "    minority_count = min(Counter(y_train).values())\n",
    "    if minority_count < 2:\n",
    "        print(\"⚠️ Too few minority samples -> using RandomOverSampler\")\n",
    "        ros = RandomOverSampler(random_state=42)\n",
    "        X_res, y_res = ros.fit_resample(X_train_pca, y_train)\n",
    "    else:\n",
    "        k_neighbors = min(5, minority_count - 1)\n",
    "        smote = SMOTE(random_state=42, k_neighbors=k_neighbors)\n",
    "        X_res, y_res = smote.fit_resample(X_train_pca, y_train)\n",
    "\n",
    "print(\"Class counts after oversampling:\", Counter(y_res))\n",
    "\n",
    "\n",
    "# ---------------------------\n",
    "# Deep Learning Model (Tabular Only)\n",
    "# ---------------------------\n",
    "clinical_in = Input(shape=(X_res.shape[1],), name=\"clinical_input\")\n",
    "c = layers.Dense(64, activation=\"relu\")(clinical_in)\n",
    "c = layers.BatchNormalization()(c)\n",
    "c = layers.Dense(32, activation=\"relu\")(c)\n",
    "c = layers.Dropout(0.3)(c)\n",
    "out = layers.Dense(1, activation=\"sigmoid\")(c)\n",
    "\n",
    "model = Model(inputs=clinical_in, outputs=out)\n",
    "model.compile(optimizer=\"adam\", loss=\"binary_crossentropy\",\n",
    "              metrics=[\"accuracy\", tf.keras.metrics.AUC(name=\"auc\")])\n",
    "\n",
    "model.summary()\n",
    "\n",
    "# ---------------------------\n",
    "# Train Model\n",
    "# ---------------------------\n",
    "es = EarlyStopping(monitor=\"val_auc\", mode=\"max\", patience=6, restore_best_weights=True, verbose=1)\n",
    "ckpt = ModelCheckpoint(\"bladder_cancer_model.keras\", monitor=\"val_auc\", mode=\"max\", save_best_only=True, verbose=1)\n",
    "\n",
    "history = model.fit(\n",
    "    X_res, y_res,\n",
    "    epochs=50,\n",
    "    batch_size=16,\n",
    "    validation_split=0.2,\n",
    "    callbacks=[es, ckpt]\n",
    ")\n",
    "\n",
    "# ---------------------------\n",
    "# Evaluate\n",
    "# ---------------------------\n",
    "loss, acc, auc_val = model.evaluate(X_test_pca, y_test, verbose=0)\n",
    "print(f\"Test Accuracy: {acc:.4f}, Test AUC: {auc_val:.4f}\")\n",
    "\n",
    "# ---------------------------\n",
    "# Predictions & Metrics\n",
    "# ---------------------------\n",
    "y_pred_prob = model.predict(X_test_pca).ravel()\n",
    "y_pred = (y_pred_prob >= 0.5).astype(int)\n",
    "\n",
    "# ROC Curve\n",
    "fpr, tpr, _ = roc_curve(y_test, y_pred_prob)\n",
    "roc_auc = auc(fpr, tpr)\n",
    "plt.figure(figsize=(6,6))\n",
    "plt.plot(fpr, tpr, label=f\"AUC = {roc_auc:.3f}\")\n",
    "plt.plot([0,1],[0,1], linestyle=\"--\", color=\"gray\")\n",
    "plt.xlabel(\"False Positive Rate\")\n",
    "plt.ylabel(\"True Positive Rate\")\n",
    "plt.title(\"ROC Curve\")\n",
    "plt.legend(loc=\"lower right\")\n",
    "plt.show()\n",
    "\n",
    "# Confusion Matrix\n",
    "cm = confusion_matrix(y_test, y_pred)\n",
    "plt.figure(figsize=(5,4))\n",
    "sns.heatmap(cm, annot=True, fmt=\"d\", cmap=\"Blues\",\n",
    "            xticklabels=[\"Cystitis\",\"Bladder Cancer\"], \n",
    "            yticklabels=[\"Cystitis\",\"Bladder Cancer\"])\n",
    "plt.xlabel(\"Predicted\")\n",
    "plt.ylabel(\"Actual\")\n",
    "plt.title(\"Confusion Matrix\")\n",
    "plt.show()\n",
    "\n",
    "# Classification Report\n",
    "print(\"Classification Report:\")\n",
    "print(classification_report(y_test, y_pred, target_names=[\"Cystitis\",\"Bladder Cancer\"]))\n"
   ]
  },
  {
   "cell_type": "code",
   "execution_count": null,
   "id": "99b90a29-ee6d-4245-9403-6858c5eabc44",
   "metadata": {},
   "outputs": [],
   "source": []
  }
 ],
 "metadata": {
  "kernelspec": {
   "display_name": "Python 3 (ipykernel)",
   "language": "python",
   "name": "python3"
  },
  "language_info": {
   "codemirror_mode": {
    "name": "ipython",
    "version": 3
   },
   "file_extension": ".py",
   "mimetype": "text/x-python",
   "name": "python",
   "nbconvert_exporter": "python",
   "pygments_lexer": "ipython3",
   "version": "3.12.3"
  }
 },
 "nbformat": 4,
 "nbformat_minor": 5
}
